{
  "nbformat": 4,
  "nbformat_minor": 0,
  "metadata": {
    "colab": {
      "provenance": []
    },
    "kernelspec": {
      "name": "python3",
      "display_name": "Python 3"
    },
    "language_info": {
      "name": "python"
    }
  },
  "cells": [
    {
      "cell_type": "markdown",
      "source": [
        "\n",
        "TCPDump is a command-line packet analyzer available on Unix-like systems (such as Linux) that allows users to capture and analyze network traffic in real-time. It can capture packets traversing a specific network interface or read packets from a saved capture file."
      ],
      "metadata": {
        "id": "yQuhfJ33l1tM"
      }
    },
    {
      "cell_type": "markdown",
      "source": [
        "I suggest you to run the code either on Google Colab or use it with a Linux OS\n",
        "\n",
        "\n",
        "Reminder = Google Colab runs on Linux virtual Machine , so it takes all the commands which can be used in Linux on the google cloud\n",
        "\n",
        "\n",
        "Our first step is to install the required tools"
      ],
      "metadata": {
        "id": "cZI1D6F_lQVd"
      }
    },
    {
      "cell_type": "code",
      "execution_count": null,
      "metadata": {
        "id": "1tNRUkVLlDqh"
      },
      "outputs": [],
      "source": [
        "!apt-get install net-tools\n",
        "!apt-get install tcpdump\n",
        "!apt-get install iputils-ping\n",
        "!apt-get install dnsutils\n",
        "!apt-get install tshark\n",
        "!apt-get install curl\n",
        "\n",
        "!pip install --pre scapy[basic]\n",
        "!pip install pyshark"
      ]
    },
    {
      "cell_type": "markdown",
      "source": [
        "Let's force some UDP packets in the virtual machine so we can see it in the tcpdump.\n",
        "\n",
        "Reminder : DNS works on UDP"
      ],
      "metadata": {
        "id": "qVNg7hrDmD7_"
      }
    },
    {
      "cell_type": "code",
      "source": [
        "!tcpdump -i eth0 -nn udp  & (sleep 5;dig www.polimi.it > /dev/null)"
      ],
      "metadata": {
        "id": "j6vM463hl4Vb"
      },
      "execution_count": null,
      "outputs": []
    },
    {
      "cell_type": "markdown",
      "source": [
        "There are two packets which were the DNS REQUEST and DNS RESPONSE\n",
        "\n",
        "Let's try capturing icmp with pinging the polimi website"
      ],
      "metadata": {
        "id": "OVe5tZh3myns"
      }
    },
    {
      "cell_type": "code",
      "source": [
        "!tcpdump -i eth0 -nn icmp  & (sleep 5;ping www.gazzetta.it -c 10 > /dev/null)"
      ],
      "metadata": {
        "id": "AqgBxAvPnBuK"
      },
      "execution_count": null,
      "outputs": []
    },
    {
      "cell_type": "markdown",
      "source": [
        "cern website is the first website ever made\n",
        ".\n",
        "http://info.cern.ch\n",
        ".\n",
        "we can use curl to use http requests\n",
        ".\n",
        "\n",
        "curl is a command-line tool and library used to transfer data to or from a server using various protocols like HTTP, HTTPS, FTP, FTPS, and more. It supports a wide range of operations including downloading files, sending requests with custom headers, and interacting with REST APIs directly from the terminal."
      ],
      "metadata": {
        "id": "PUmYsIoVnt2b"
      }
    },
    {
      "cell_type": "code",
      "source": [
        "!curl info.cern.ch"
      ],
      "metadata": {
        "id": "R8ItpMK1nvAp"
      },
      "execution_count": null,
      "outputs": []
    },
    {
      "cell_type": "markdown",
      "source": [
        "Let's find the ip address of this website"
      ],
      "metadata": {
        "id": "qXLrGw0ZoXRn"
      }
    },
    {
      "cell_type": "code",
      "source": [
        "import socket\n",
        "\n",
        "def get_ip_address(hostname):\n",
        "    try:\n",
        "        ip_address = socket.gethostbyname(hostname)\n",
        "        return ip_address\n",
        "    except socket.error as e:\n",
        "        print(f\"Error: {e}\")\n",
        "        return None\n",
        "\n",
        "hostname = 'info.cern.ch'\n",
        "\n",
        "# Call the function to get the IP address\n",
        "target = get_ip_address(hostname)\n",
        "\n",
        "if target:\n",
        "    print(f\"The IP address of {hostname} is: {target}\")\n",
        "else:\n",
        "    print(f\"Failed to retrieve IP address for {hostname}\")\n"
      ],
      "metadata": {
        "colab": {
          "base_uri": "https://localhost:8080/"
        },
        "id": "5xG7XYiqoZ5p",
        "outputId": "e5fa7fab-8ce2-43ca-ee1c-ea8f00ce9d59"
      },
      "execution_count": 13,
      "outputs": [
        {
          "output_type": "stream",
          "name": "stdout",
          "text": [
            "The IP address of info.cern.ch is: 188.184.100.182\n"
          ]
        }
      ]
    },
    {
      "cell_type": "code",
      "source": [
        "!tcpdump -i eth0 -nn 'tcp and host 188.184.100.182'  & (curl -s info.cern.ch  > /dev/null)"
      ],
      "metadata": {
        "id": "xtCMDbDIpAzB"
      },
      "execution_count": null,
      "outputs": []
    },
    {
      "cell_type": "markdown",
      "source": [
        "First 3 lines are the 3 way hand shake and then there is the get request and then the 200 ok response and then the content of the website"
      ],
      "metadata": {
        "id": "fhULXSZJqfRs"
      }
    },
    {
      "cell_type": "code",
      "source": [
        "!tcpdump -i eth0 -nnX 'tcp and host 188.184.100.182'  & (sleep 5;curl -s info.cern.ch  > /dev/null)\n",
        "# -nnX is used to see also the content inside the packets\n",
        "# -nn just gives the headers + some info in the payload"
      ],
      "metadata": {
        "id": "MAGaFvGFqgDX"
      },
      "execution_count": null,
      "outputs": []
    },
    {
      "cell_type": "markdown",
      "source": [
        "Saving the captured packets.\n",
        "\n",
        "\n",
        "The .pcap file can be downloded and opened in the wireshark application"
      ],
      "metadata": {
        "id": "yEVc6soBq2gg"
      }
    },
    {
      "cell_type": "code",
      "source": [
        "!tcpdump -i eth0 -nnX 'tcp and host 188.184.100.182'  -w 'http_capture.pcap' & (sleep 5;curl -s info.cern.ch  > /dev/null)\n"
      ],
      "metadata": {
        "colab": {
          "base_uri": "https://localhost:8080/"
        },
        "id": "WCRJbaavq85N",
        "outputId": "3b7f7c98-332a-426f-95a1-33b085194b81"
      },
      "execution_count": 16,
      "outputs": [
        {
          "output_type": "stream",
          "name": "stdout",
          "text": [
            "tcpdump: listening on eth0, link-type EN10MB (Ethernet), snapshot length 262144 bytes\n",
            "10 packets captured\n",
            "10 packets received by filter\n",
            "0 packets dropped by kernel\n"
          ]
        }
      ]
    },
    {
      "cell_type": "markdown",
      "source": [
        "We can either use Scapy or Pyshark to open the .pacp file"
      ],
      "metadata": {
        "id": "JkjYn_Ixrfar"
      }
    },
    {
      "cell_type": "code",
      "source": [
        "from scapy.all import *\n",
        "cap = rdpcap('http_capture.pcap')\n",
        "for packet in cap:\n",
        "  packet.show()\n",
        "\n",
        "# scapy is better for injecting packets than reading the packets\n",
        "# its better to use pyshark\n",
        ""
      ],
      "metadata": {
        "id": "XN6wxYZYrm4c"
      },
      "execution_count": null,
      "outputs": []
    },
    {
      "cell_type": "code",
      "source": [
        "!pip install nest_asyncio\n",
        "import pyshark\n",
        "import os\n",
        "import nest_asyncio\n",
        "\n",
        "#nest is needed in colab when using pyshark\n",
        "nest_asyncio.apply()\n",
        "cap = pyshark.FileCapture('http_capture.pcap')\n",
        "for packet in cap :\n",
        "  print(packet)\n",
        "cap.close()\n"
      ],
      "metadata": {
        "id": "jxiuEw_crnwz"
      },
      "execution_count": null,
      "outputs": []
    },
    {
      "cell_type": "code",
      "source": [
        "# The loaded file is an object , so we can use filters in order to see better results that can be understood better\n",
        "cap = pyshark.FileCapture('http_capture.pcap')\n",
        "for packet in cap :\n",
        "  print('From :' + packet.ip.src + ':' + packet.tcp.srcport + ' TO :' + packet.ip.dst + ':' + packet.tcp.dstport + ' , ' + packet.length + '  bytes  ' + packet.sniff_timestamp)\n",
        "cap.close()\n",
        "\n"
      ],
      "metadata": {
        "id": "qYMi-hllr2Cf"
      },
      "execution_count": null,
      "outputs": []
    }
  ]
}